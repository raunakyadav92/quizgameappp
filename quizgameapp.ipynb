{
  "nbformat": 4,
  "nbformat_minor": 0,
  "metadata": {
    "colab": {
      "provenance": [],
      "authorship_tag": "ABX9TyMF2WoZg0Zsm1MVfA0TJSmq",
      "include_colab_link": true
    },
    "kernelspec": {
      "name": "python3",
      "display_name": "Python 3"
    },
    "language_info": {
      "name": "python"
    }
  },
  "cells": [
    {
      "cell_type": "markdown",
      "metadata": {
        "id": "view-in-github",
        "colab_type": "text"
      },
      "source": [
        "<a href=\"https://colab.research.google.com/github/raunakyadav92/quizgameappp/blob/main/quizgameapp.ipynb\" target=\"_parent\"><img src=\"https://colab.research.google.com/assets/colab-badge.svg\" alt=\"Open In Colab\"/></a>"
      ]
    },
    {
      "cell_type": "code",
      "execution_count": null,
      "metadata": {
        "id": "wiBCdfxHZ-bB"
      },
      "outputs": [],
      "source": [
        "questions = [\n",
        "    {\n",
        "        \"question\": \"What is the capital of India?\",\n",
        "        \"options\": [\"A. Mumbai\", \"B. Delhi\", \"C. Kolkata\", \"D. Chennai\"],\n",
        "        \"answer\": \"B\"\n",
        "    },\n",
        "    {\n",
        "        \"question\": \"Who invented Python?\",\n",
        "        \"options\": [\"A. James Gosling\", \"B. Guido van Rossum\", \"C. Dennis Ritchie\", \"D. Elon Musk\"],\n",
        "        \"answer\": \"B\"\n",
        "    },\n",
        "    {\n",
        "        \"question\": \"What is the square root of 64?\",\n",
        "        \"options\": [\"A. 6\", \"B. 7\", \"C. 8\", \"D. 9\"],\n",
        "        \"answer\": \"C\"\n",
        "    }\n",
        "]\n",
        "\n",
        "score = 0\n",
        "\n",
        "for q in questions:\n",
        "    print(\"\\n\" + q['question'])\n",
        "    for opt in q['options']:\n",
        "        print(opt)\n",
        "    ans = input(\"Enter your answer (A/B/C/D): \").upper()\n",
        "    if ans == q['answer']:\n",
        "        print(\"✅ Correct!\")\n",
        "        score += 1\n",
        "    else:\n",
        "        print(f\"❌ Wrong! Correct answer is {q['answer']}.\")\n",
        "\n",
        "print(f\"\\n🎯 Your Final Score: {score} out of {len(questions)}\")\n"
      ]
    }
  ]
}